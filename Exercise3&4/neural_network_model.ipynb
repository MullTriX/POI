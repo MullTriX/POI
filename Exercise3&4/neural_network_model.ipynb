{
 "cells": [
  {
   "cell_type": "markdown",
   "id": "3143465c",
   "metadata": {},
   "source": [
    "<h1>POI Ćwiczenie 4<h1>"
   ]
  },
  {
   "cell_type": "markdown",
   "id": "eed387c9",
   "metadata": {},
   "source": [
    "# Importowanie bibliotek"
   ]
  },
  {
   "cell_type": "code",
   "execution_count": 23,
   "id": "84ba347b",
   "metadata": {},
   "outputs": [],
   "source": [
    "import numpy as np\n",
    "from keras import Sequential\n",
    "from keras.layers import Dense\n",
    "import pandas as pd\n",
    "from sklearn.model_selection import train_test_split\n",
    "from sklearn.metrics import confusion_matrix, ConfusionMatrixDisplay\n",
    "from sklearn.preprocessing import OneHotEncoder, LabelEncoder"
   ]
  },
  {
   "cell_type": "markdown",
   "id": "4a8e2133",
   "metadata": {},
   "source": [
    "# Wczytywanie danych z pliku csv"
   ]
  },
  {
   "cell_type": "code",
   "execution_count": 24,
   "id": "03c91741",
   "metadata": {},
   "outputs": [],
   "source": [
    "def load_data(feature_csv):\n",
    "    \"\"\"\n",
    "    Load data from a CSV file.\n",
    "    Args:\n",
    "        feature_csv (str): Path to the CSV file containing features and labels.\n",
    "    Returns:\n",
    "        X (np.ndarray): Feature matrix.\n",
    "        y (np.ndarray): Labels.\n",
    "    \"\"\"\n",
    "    data = pd.read_csv(feature_csv)\n",
    "    X = data.drop('category', axis=1).values\n",
    "    y = data['category'].values\n",
    "    return X, y\n",
    "\n",
    "X, y = load_data('texture_features.csv')"
   ]
  },
  {
   "cell_type": "markdown",
   "id": "e29510f2",
   "metadata": {},
   "source": [
    "# Wstępne przetwarzanie danych\n"
   ]
  },
  {
   "cell_type": "code",
   "execution_count": 25,
   "id": "4aa099ec",
   "metadata": {},
   "outputs": [],
   "source": [
    "label_encoder = LabelEncoder()\n",
    "y_int = label_encoder.fit_transform(y)\n",
    "onehot_encoder = OneHotEncoder(sparse_output=False)\n",
    "y_onehot = onehot_encoder.fit_transform(y_int.reshape(-1, 1))\n",
    "X_train, X_test, y_train, y_test = train_test_split(\n",
    "    X, y_onehot, test_size=0.3, random_state=42, stratify=y_int\n",
    ")"
   ]
  },
  {
   "cell_type": "markdown",
   "id": "972309be",
   "metadata": {},
   "source": [
    "# Tworzenie modelu oraz trenowanie sieci neuronowej"
   ]
  },
  {
   "cell_type": "code",
   "execution_count": 34,
   "id": "db5d33f5",
   "metadata": {},
   "outputs": [
    {
     "name": "stdout",
     "output_type": "stream",
     "text": [
      "Epoch 1/100\n",
      "38/38 [==============================] - 0s 757us/step - loss: 1.0291 - accuracy: 0.4709\n",
      "Epoch 2/100\n",
      "38/38 [==============================] - 0s 826us/step - loss: 0.9466 - accuracy: 0.7354\n",
      "Epoch 3/100\n",
      "38/38 [==============================] - 0s 839us/step - loss: 0.8978 - accuracy: 0.7381\n",
      "Epoch 4/100\n",
      "38/38 [==============================] - 0s 854us/step - loss: 0.8559 - accuracy: 0.7381\n",
      "Epoch 5/100\n",
      "38/38 [==============================] - 0s 854us/step - loss: 0.8179 - accuracy: 0.7381\n",
      "Epoch 6/100\n",
      "38/38 [==============================] - 0s 770us/step - loss: 0.7900 - accuracy: 0.7381\n",
      "Epoch 7/100\n",
      "38/38 [==============================] - 0s 1ms/step - loss: 0.7555 - accuracy: 0.7381\n",
      "Epoch 8/100\n",
      "38/38 [==============================] - 0s 935us/step - loss: 0.7233 - accuracy: 0.7381\n",
      "Epoch 9/100\n",
      "38/38 [==============================] - 0s 964us/step - loss: 0.6940 - accuracy: 0.7381\n",
      "Epoch 10/100\n",
      "38/38 [==============================] - 0s 964us/step - loss: 0.6665 - accuracy: 0.9127\n",
      "Epoch 11/100\n",
      "38/38 [==============================] - 0s 1ms/step - loss: 0.6460 - accuracy: 0.9841\n",
      "Epoch 12/100\n",
      "38/38 [==============================] - 0s 1ms/step - loss: 0.8293 - accuracy: 0.7011\n",
      "Epoch 13/100\n",
      "38/38 [==============================] - 0s 1ms/step - loss: 0.8125 - accuracy: 0.7381\n",
      "Epoch 14/100\n",
      "38/38 [==============================] - 0s 854us/step - loss: 0.7986 - accuracy: 0.7381\n",
      "Epoch 15/100\n",
      "38/38 [==============================] - 0s 812us/step - loss: 0.7861 - accuracy: 0.7381\n",
      "Epoch 16/100\n",
      "38/38 [==============================] - 0s 701us/step - loss: 0.7747 - accuracy: 0.7381\n",
      "Epoch 17/100\n",
      "38/38 [==============================] - 0s 729us/step - loss: 0.7631 - accuracy: 0.7381\n",
      "Epoch 18/100\n",
      "38/38 [==============================] - 0s 730us/step - loss: 0.7530 - accuracy: 0.7381\n",
      "Epoch 19/100\n",
      "38/38 [==============================] - 0s 687us/step - loss: 0.7424 - accuracy: 0.7381\n",
      "Epoch 20/100\n",
      "38/38 [==============================] - 0s 714us/step - loss: 0.7330 - accuracy: 0.7381\n",
      "Epoch 21/100\n",
      "38/38 [==============================] - 0s 798us/step - loss: 0.7237 - accuracy: 0.7381\n",
      "Epoch 22/100\n",
      "38/38 [==============================] - 0s 770us/step - loss: 0.7148 - accuracy: 0.7381\n",
      "Epoch 23/100\n",
      "38/38 [==============================] - 0s 731us/step - loss: 0.7069 - accuracy: 0.7381\n",
      "Epoch 24/100\n",
      "38/38 [==============================] - 0s 798us/step - loss: 0.6990 - accuracy: 0.7381\n",
      "Epoch 25/100\n",
      "38/38 [==============================] - 0s 757us/step - loss: 0.6907 - accuracy: 0.7381\n",
      "Epoch 26/100\n",
      "38/38 [==============================] - 0s 688us/step - loss: 0.6834 - accuracy: 0.7381\n",
      "Epoch 27/100\n",
      "38/38 [==============================] - 0s 1ms/step - loss: 0.6771 - accuracy: 0.7381\n",
      "Epoch 28/100\n",
      "38/38 [==============================] - 0s 758us/step - loss: 0.6704 - accuracy: 0.7381\n",
      "Epoch 29/100\n",
      "38/38 [==============================] - 0s 757us/step - loss: 0.6645 - accuracy: 0.7381\n",
      "Epoch 30/100\n",
      "38/38 [==============================] - 0s 701us/step - loss: 0.6581 - accuracy: 0.7381\n",
      "Epoch 31/100\n",
      "38/38 [==============================] - 0s 729us/step - loss: 0.6523 - accuracy: 0.7381\n",
      "Epoch 32/100\n",
      "38/38 [==============================] - 0s 715us/step - loss: 0.6467 - accuracy: 0.7381\n",
      "Epoch 33/100\n",
      "38/38 [==============================] - 0s 716us/step - loss: 0.6414 - accuracy: 0.7381\n",
      "Epoch 34/100\n",
      "38/38 [==============================] - 0s 784us/step - loss: 0.6361 - accuracy: 0.7381\n",
      "Epoch 35/100\n",
      "38/38 [==============================] - 0s 702us/step - loss: 0.6319 - accuracy: 0.7381\n",
      "Epoch 36/100\n",
      "38/38 [==============================] - 0s 951us/step - loss: 0.6267 - accuracy: 0.7381\n",
      "Epoch 37/100\n",
      "38/38 [==============================] - 0s 1ms/step - loss: 0.6225 - accuracy: 0.7381\n",
      "Epoch 38/100\n",
      "38/38 [==============================] - 0s 1ms/step - loss: 0.6174 - accuracy: 0.7381\n",
      "Epoch 39/100\n",
      "38/38 [==============================] - 0s 1ms/step - loss: 0.6133 - accuracy: 0.7381\n",
      "Epoch 40/100\n",
      "38/38 [==============================] - 0s 993us/step - loss: 0.6095 - accuracy: 0.7381\n",
      "Epoch 41/100\n",
      "38/38 [==============================] - 0s 908us/step - loss: 0.6052 - accuracy: 0.7381\n",
      "Epoch 42/100\n",
      "38/38 [==============================] - 0s 937us/step - loss: 0.6021 - accuracy: 0.7381\n",
      "Epoch 43/100\n",
      "38/38 [==============================] - 0s 757us/step - loss: 0.5983 - accuracy: 0.7381\n",
      "Epoch 44/100\n",
      "38/38 [==============================] - 0s 743us/step - loss: 0.5941 - accuracy: 0.7381\n",
      "Epoch 45/100\n",
      "38/38 [==============================] - 0s 730us/step - loss: 0.5910 - accuracy: 0.7381\n",
      "Epoch 46/100\n",
      "38/38 [==============================] - 0s 715us/step - loss: 0.5876 - accuracy: 0.7381\n",
      "Epoch 47/100\n",
      "38/38 [==============================] - 0s 729us/step - loss: 0.5841 - accuracy: 0.7381\n",
      "Epoch 48/100\n",
      "38/38 [==============================] - 0s 812us/step - loss: 0.5810 - accuracy: 0.7381\n",
      "Epoch 49/100\n",
      "38/38 [==============================] - 0s 882us/step - loss: 0.5783 - accuracy: 0.7381\n",
      "Epoch 50/100\n",
      "38/38 [==============================] - 0s 799us/step - loss: 0.5751 - accuracy: 0.7381\n",
      "Epoch 51/100\n",
      "38/38 [==============================] - 0s 798us/step - loss: 0.5725 - accuracy: 0.7381\n",
      "Epoch 52/100\n",
      "38/38 [==============================] - 0s 853us/step - loss: 0.5694 - accuracy: 0.7381\n",
      "Epoch 53/100\n",
      "38/38 [==============================] - 0s 854us/step - loss: 0.5672 - accuracy: 0.7381\n",
      "Epoch 54/100\n",
      "38/38 [==============================] - 0s 1ms/step - loss: 0.5641 - accuracy: 0.7381\n",
      "Epoch 55/100\n",
      "38/38 [==============================] - 0s 867us/step - loss: 0.5623 - accuracy: 0.7381\n",
      "Epoch 56/100\n",
      "38/38 [==============================] - 0s 980us/step - loss: 0.5600 - accuracy: 0.7381\n",
      "Epoch 57/100\n",
      "38/38 [==============================] - 0s 908us/step - loss: 0.5575 - accuracy: 0.7381\n",
      "Epoch 58/100\n",
      "38/38 [==============================] - 0s 937us/step - loss: 0.5551 - accuracy: 0.7381\n",
      "Epoch 59/100\n",
      "38/38 [==============================] - 0s 770us/step - loss: 0.5527 - accuracy: 0.7381\n",
      "Epoch 60/100\n",
      "38/38 [==============================] - 0s 701us/step - loss: 0.5513 - accuracy: 0.7381\n",
      "Epoch 61/100\n",
      "38/38 [==============================] - 0s 785us/step - loss: 0.5486 - accuracy: 0.7381\n",
      "Epoch 62/100\n",
      "38/38 [==============================] - 0s 867us/step - loss: 0.5466 - accuracy: 0.7381\n",
      "Epoch 63/100\n",
      "38/38 [==============================] - 0s 826us/step - loss: 0.5444 - accuracy: 0.7381\n",
      "Epoch 64/100\n",
      "38/38 [==============================] - 0s 825us/step - loss: 0.5426 - accuracy: 0.7381\n",
      "Epoch 65/100\n",
      "38/38 [==============================] - 0s 688us/step - loss: 0.5407 - accuracy: 0.7381\n",
      "Epoch 66/100\n",
      "38/38 [==============================] - 0s 771us/step - loss: 0.5387 - accuracy: 0.7381\n",
      "Epoch 67/100\n",
      "38/38 [==============================] - 0s 743us/step - loss: 0.5369 - accuracy: 0.7381\n",
      "Epoch 68/100\n",
      "38/38 [==============================] - 0s 868us/step - loss: 0.5355 - accuracy: 0.7381\n",
      "Epoch 69/100\n",
      "38/38 [==============================] - 0s 840us/step - loss: 0.5335 - accuracy: 0.7381\n",
      "Epoch 70/100\n",
      "38/38 [==============================] - 0s 728us/step - loss: 0.5321 - accuracy: 0.7381\n",
      "Epoch 71/100\n",
      "38/38 [==============================] - 0s 785us/step - loss: 0.5303 - accuracy: 0.7381\n",
      "Epoch 72/100\n",
      "38/38 [==============================] - 0s 714us/step - loss: 0.5286 - accuracy: 0.7381\n",
      "Epoch 73/100\n",
      "38/38 [==============================] - 0s 715us/step - loss: 0.5268 - accuracy: 0.7381\n",
      "Epoch 74/100\n",
      "38/38 [==============================] - 0s 715us/step - loss: 0.5254 - accuracy: 0.7381\n",
      "Epoch 75/100\n",
      "38/38 [==============================] - 0s 715us/step - loss: 0.5241 - accuracy: 0.7381\n",
      "Epoch 76/100\n",
      "38/38 [==============================] - 0s 784us/step - loss: 0.5228 - accuracy: 0.7381\n",
      "Epoch 77/100\n",
      "38/38 [==============================] - 0s 757us/step - loss: 0.5217 - accuracy: 0.7381\n",
      "Epoch 78/100\n",
      "38/38 [==============================] - 0s 729us/step - loss: 0.5198 - accuracy: 0.7381\n",
      "Epoch 79/100\n",
      "38/38 [==============================] - 0s 743us/step - loss: 0.5188 - accuracy: 0.7381\n",
      "Epoch 80/100\n",
      "38/38 [==============================] - 0s 756us/step - loss: 0.5175 - accuracy: 0.7381\n",
      "Epoch 81/100\n",
      "38/38 [==============================] - 0s 715us/step - loss: 0.5157 - accuracy: 0.7381\n",
      "Epoch 82/100\n",
      "38/38 [==============================] - 0s 770us/step - loss: 0.5148 - accuracy: 0.7381\n",
      "Epoch 83/100\n",
      "38/38 [==============================] - 0s 756us/step - loss: 0.5138 - accuracy: 0.7381\n",
      "Epoch 84/100\n",
      "38/38 [==============================] - 0s 700us/step - loss: 0.5123 - accuracy: 0.7381\n",
      "Epoch 85/100\n",
      "38/38 [==============================] - 0s 716us/step - loss: 0.5113 - accuracy: 0.7381\n",
      "Epoch 86/100\n",
      "38/38 [==============================] - 0s 742us/step - loss: 0.5100 - accuracy: 0.7381\n",
      "Epoch 87/100\n",
      "38/38 [==============================] - 0s 744us/step - loss: 0.5088 - accuracy: 0.7381\n",
      "Epoch 88/100\n",
      "38/38 [==============================] - 0s 771us/step - loss: 0.5074 - accuracy: 0.7381\n",
      "Epoch 89/100\n",
      "38/38 [==============================] - 0s 771us/step - loss: 0.5071 - accuracy: 0.7381\n",
      "Epoch 90/100\n",
      "38/38 [==============================] - 0s 701us/step - loss: 0.5050 - accuracy: 0.7381\n",
      "Epoch 91/100\n",
      "38/38 [==============================] - 0s 743us/step - loss: 0.5048 - accuracy: 0.7381\n",
      "Epoch 92/100\n",
      "38/38 [==============================] - 0s 813us/step - loss: 0.5036 - accuracy: 0.7381\n",
      "Epoch 93/100\n",
      "38/38 [==============================] - 0s 714us/step - loss: 0.5029 - accuracy: 0.7381\n",
      "Epoch 94/100\n",
      "38/38 [==============================] - 0s 783us/step - loss: 0.5010 - accuracy: 0.7381\n",
      "Epoch 95/100\n",
      "38/38 [==============================] - 0s 784us/step - loss: 0.5004 - accuracy: 0.7381\n",
      "Epoch 96/100\n",
      "38/38 [==============================] - 0s 714us/step - loss: 0.4998 - accuracy: 0.7381\n",
      "Epoch 97/100\n",
      "38/38 [==============================] - 0s 770us/step - loss: 0.4985 - accuracy: 0.7381\n",
      "Epoch 98/100\n",
      "38/38 [==============================] - 0s 771us/step - loss: 0.4987 - accuracy: 0.7381\n",
      "Epoch 99/100\n",
      "38/38 [==============================] - 0s 742us/step - loss: 0.4970 - accuracy: 0.7381\n",
      "Epoch 100/100\n",
      "38/38 [==============================] - 0s 714us/step - loss: 0.4960 - accuracy: 0.7381\n"
     ]
    },
    {
     "data": {
      "text/plain": [
       "<keras.callbacks.History at 0x1b9f2113d60>"
      ]
     },
     "execution_count": 34,
     "metadata": {},
     "output_type": "execute_result"
    }
   ],
   "source": [
    "model = Sequential()\n",
    "model.add(Dense(10, activation='sigmoid', input_dim = X.shape[1]))\n",
    "model.add(Dense(3, activation='softmax'))\n",
    "model.compile(\n",
    "    loss='categorical_crossentropy',\n",
    "    optimizer='sgd',\n",
    "    metrics=['accuracy']\n",
    ")\n",
    "model.fit(X_train, y_train, epochs=100, batch_size=10, shuffle=True)"
   ]
  },
  {
   "cell_type": "markdown",
   "id": "54b3d877",
   "metadata": {},
   "source": [
    "# Testowanie sieci"
   ]
  },
  {
   "cell_type": "code",
   "execution_count": 35,
   "id": "f430bb51",
   "metadata": {},
   "outputs": [
    {
     "name": "stdout",
     "output_type": "stream",
     "text": [
      "6/6 [==============================] - 0s 818us/step\n"
     ]
    },
    {
     "data": {
      "text/plain": [
       "<sklearn.metrics._plot.confusion_matrix.ConfusionMatrixDisplay at 0x1b9ebfae620>"
      ]
     },
     "execution_count": 35,
     "metadata": {},
     "output_type": "execute_result"
    },
    {
     "data": {
      "image/png": "[encoded data removed]",
      "text/plain": [
       "<Figure size 640x480 with 2 Axes>"
      ]
     },
     "metadata": {},
     "output_type": "display_data"
    }
   ],
   "source": [
    "y_pred = model.predict(X_test)\n",
    "y_pred_int = np.argmax(y_pred, axis=1)\n",
    "y_test_int = np.argmax(y_test, axis=1)\n",
    "cm = confusion_matrix(y_test_int, y_pred_int)\n",
    "disp = ConfusionMatrixDisplay(confusion_matrix=cm, display_labels=label_encoder.classes_)\n",
    "disp.plot(cmap='Blues')\n"
   ]
  },
  {
   "cell_type": "markdown",
   "id": "04a00c6f",
   "metadata": {},
   "source": [
    "# Confusion matrix wygenerowany przez google colab\n",
    "Epochs = 25, batch_size = 10\n"
   ]
  },
  {
   "attachments": {
    "image.png": {
     "image/png": "[encoded data removed]"
    }
   },
   "cell_type": "markdown",
   "id": "90717a95",
   "metadata": {},
   "source": [
    "![image.png](attachment:image.png)"
   ]
  },
  {
   "cell_type": "markdown",
   "id": "b7aff9ff",
   "metadata": {},
   "source": [
    "Róznica między dwoma matrixami przy takich samych ustawieniach siecii wynikała ze środowiska w którym model był uczony. Trenowanie na GPU jest znacznie szybsze niż trenowanie na CPU. Dodatkowo GPU jest bardziej wydaje przy dużych modelach danych. Przy zastosowaniu tej samej ilości etapów (Epochs) model trenowany na GPU wykazał znaczne przetrenowanie modelu co skutkowało sklasyfikowaniem wszystkiego jako Tynku. Zredukowanie liczby etapów do 25 pozwoliło uzyskać wynik zbliżony do tego trenowanego na CPU przy 100 Epochach. Pomimo faktu, że tablica pomyłek w obu przypadkach wygląda identycznie, modele nieznacznie różnią się skutecznością oraz funkcją straty."
   ]
  }
 ],
 "metadata": {
  "kernelspec": {
   "display_name": "tf",
   "language": "python",
   "name": "python3"
  },
  "language_info": {
   "codemirror_mode": {
    "name": "ipython",
    "version": 3
   },
   "file_extension": ".py",
   "mimetype": "text/x-python",
   "name": "python",
   "nbconvert_exporter": "python",
   "pygments_lexer": "ipython3",
   "version": "3.10.13"
  }
 },
 "nbformat": 4,
 "nbformat_minor": 5
}
