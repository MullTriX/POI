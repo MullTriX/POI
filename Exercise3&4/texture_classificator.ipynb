{
 "cells": [
  {
   "cell_type": "markdown",
   "id": "ccc77bc5",
   "metadata": {},
   "source": [
    "# Importowanie niezbędnych bibliotek"
   ]
  },
  {
   "cell_type": "code",
   "execution_count": 1,
   "id": "8b8a03ee",
   "metadata": {},
   "outputs": [],
   "source": [
    "import os\n",
    "import numpy as np\n",
    "import pandas as pd\n",
    "from skimage import io, color, img_as_ubyte\n",
    "from skimage.feature import graycomatrix, graycoprops\n",
    "from sklearn.model_selection import train_test_split\n",
    "from sklearn.svm import SVC\n",
    "from sklearn.metrics import accuracy_score"
   ]
  },
  {
   "cell_type": "markdown",
   "id": "ec591d46",
   "metadata": {},
   "source": [
    "# Przygotowanie próbek tekstur"
   ]
  },
  {
   "cell_type": "code",
   "execution_count": 2,
   "id": "1299eabf",
   "metadata": {},
   "outputs": [
    {
     "name": "stderr",
     "output_type": "stream",
     "text": [
      "c:\\Users\\mullt\\anaconda3\\envs\\POI\\Lib\\site-packages\\skimage\\_shared\\utils.py:328: UserWarning: Samples\\Gres\\sample_Gres_119.png is a low contrast image\n",
      "  return func(*args, **kwargs)\n"
     ]
    },
    {
     "name": "stdout",
     "output_type": "stream",
     "text": [
      "Cropped images have been saved to the Samples folder.\n"
     ]
    }
   ],
   "source": [
    "def crop_and_save_images(image_dir, output_dir, crop_size=(128, 128)):\n",
    "    for category in os.listdir(image_dir):\n",
    "        category_path = os.path.join(image_dir, category)\n",
    "        if os.path.isdir(category_path):\n",
    "            for image_file in os.listdir(category_path):\n",
    "                if image_file.endswith(('.png', '.jpg', '.jpeg')):\n",
    "                    image_path = os.path.join(category_path, image_file)\n",
    "                    image = io.imread(image_path)\n",
    "                    height, width = image.shape[:2]\n",
    "                    for i in range(0, height, crop_size[0]):\n",
    "                        for j in range(0, width, crop_size[1]):\n",
    "                            if i + crop_size[0] <= height and j + crop_size[1] <= width:\n",
    "                                cropped = image[i:i + crop_size[0], j:j + crop_size[1]]\n",
    "                                category_dir = os.path.join(output_dir, category)\n",
    "                                os.makedirs(category_dir, exist_ok=True)\n",
    "                                fragment_index = len(os.listdir(category_dir))\n",
    "                                fragment_path = os.path.join(category_dir, f\"sample_{category}_{fragment_index}.png\")\n",
    "                                io.imsave(fragment_path, cropped)\n",
    "                else :\n",
    "                    print(f\"Skipping non-image file: {image_file}\")\n",
    "\n",
    "textures_dir = \"Textures\"\n",
    "samples_dir = \"Samples\"\n",
    "crop_and_save_images(image_dir=textures_dir, output_dir=samples_dir, crop_size=(128, 128))\n",
    "print(\"Cropped images have been saved to the Samples folder.\")"
   ]
  },
  {
   "cell_type": "markdown",
   "id": "97e04c03",
   "metadata": {},
   "source": [
    "# Wczytywanie próbek i wyznaczanie cech tekstur"
   ]
  },
  {
   "cell_type": "code",
   "execution_count": null,
   "id": "dea08073",
   "metadata": {},
   "outputs": [],
   "source": [
    "def extract_and_save_features_from_samples(samples_dir, output_csv):\n",
    "    feature_vectors = []\n",
    "    distances = [1, 3, 5]\n",
    "    angles = [0, np.pi/4, np.pi/2, 3*np.pi/4]\n",
    "    properties = ['dissimilarity', 'correlation', 'contrast', 'energy', 'homogeneity', 'ASM']\n",
    "    categories = []\n",
    "\n",
    "    for category in os.listdir(samples_dir):\n",
    "        category_path = os.path.join(samples_dir, category)\n",
    "        if os.path.isdir(category_path):\n",
    "            for image_file in os.listdir(category_path):\n",
    "                if image_file.endswith(('.png', '.jpg', '.jpeg')):\n",
    "                    image_path = os.path.join(category_path, image_file)\n",
    "                    image = io.imread(image_path)\n",
    "\n",
    "                    if image.shape[-1] == 4:\n",
    "                        image = color.rgba2rgb(image)\n",
    "\n",
    "                    if len(image.shape) == 3:\n",
    "                        image = color.rgb2gray(image)\n",
    "                    \n",
    "                    image = img_as_ubyte(image)\n",
    "                    glcm = graycomatrix(image, distances=distances, angles=angles, symmetric=True, normed=True)\n",
    "                    features = []\n",
    "                    for prop in properties:\n",
    "                        for d in range(len(distances)):\n",
    "                            for a in range(len(angles)):\n",
    "                                features.append(graycoprops(glcm, prop)[d, a])\n",
    "                    features.append(category)\n",
    "                    feature_vectors.append(features)\n",
    "                    categories.append(category)\n",
    "\n",
    "    # Define column names for the CSV\n",
    "    columns = [f\"{prop}_d{d}_a{a}\" for prop in properties\n",
    "               for d in range(len(distances)) for a in range(len(angles))]\n",
    "    columns.append(\"category\")\n",
    "\n",
    "    # Save features to CSV\n",
    "    df = pd.DataFrame(feature_vectors, columns=columns)\n",
    "    df.to_csv(output_csv, index=False)\n",
    "    print(f\"Features have been saved to {output_csv}\")\n",
    "\n",
    "output_csv = \"texture_features.csv\"\n",
    "extract_and_save_features_from_samples(samples_dir, output_csv)"
   ]
  },
  {
   "cell_type": "markdown",
   "id": "9a5b3e4e",
   "metadata": {},
   "source": [
    "# Trenowanie i testowanie"
   ]
  },
  {
   "cell_type": "code",
   "execution_count": 26,
   "id": "2933ff6e",
   "metadata": {},
   "outputs": [
    {
     "name": "stdout",
     "output_type": "stream",
     "text": [
      "Classifier Accuracy: 100.00%\n"
     ]
    }
   ],
   "source": [
    "def train_and_test_classifier(feature_csv, test_size = 0.2, random_state = 42):\n",
    "    data = pd.read_csv(feature_csv)\n",
    "    X = data.drop('category', axis=1).values\n",
    "\n",
    "    y = data['category'].values\n",
    "    X_train, X_test, y_train, y_test = train_test_split(X, y, test_size=test_size, random_state=random_state)\n",
    "    classifier = SVC(kernel='linear')\n",
    "    classifier.fit(X_train, y_train)\n",
    "    y_pred = classifier.predict(X_test)\n",
    "    accuracy = accuracy_score(y_test, y_pred)\n",
    "    print(f\"Classifier Accuracy: {accuracy * 100:.2f}%\")\n",
    "\n",
    "train_and_test_classifier(output_csv)"
   ]
  }
 ],
 "metadata": {
  "kernelspec": {
   "display_name": "POI",
   "language": "python",
   "name": "python3"
  },
  "language_info": {
   "codemirror_mode": {
    "name": "ipython",
    "version": 3
   },
   "file_extension": ".py",
   "mimetype": "text/x-python",
   "name": "python",
   "nbconvert_exporter": "python",
   "pygments_lexer": "ipython3",
   "version": "3.13.2"
  }
 },
 "nbformat": 4,
 "nbformat_minor": 5
}
