{
 "cells": [
  {
   "cell_type": "code",
   "execution_count": null,
   "metadata": {},
   "outputs": [],
   "source": [
    "import numpy as np\n",
    "import matplotlib.pyplot as plt"
   ]
  },
  {
   "cell_type": "code",
   "execution_count": null,
   "metadata": {},
   "outputs": [],
   "source": [
    "def generate_surface_xy(length, width, num_points):\n",
    "    x_range = (-length, length)\n",
    "    y_range = (-width, width)\n",
    "    z_range = (0,0)\n",
    "    \n",
    "    x = np.random.uniform(x_range[0], x_range[1], num_points)\n",
    "    y = np.random.uniform(y_range[0], y_range[1], num_points)\n",
    "    z = np.random.uniform(z_range[0], z_range[1], num_points)\n",
    "    return (x, y, z)"
   ]
  },
  {
   "cell_type": "code",
   "execution_count": 25,
   "metadata": {},
   "outputs": [
    {
     "ename": "NameError",
     "evalue": "name 'size1' is not defined",
     "output_type": "error",
     "traceback": [
      "\u001b[31m---------------------------------------------------------------------------\u001b[39m",
      "\u001b[31mNameError\u001b[39m                                 Traceback (most recent call last)",
      "\u001b[36mCell\u001b[39m\u001b[36m \u001b[39m\u001b[32mIn[25]\u001b[39m\u001b[32m, line 1\u001b[39m\n\u001b[32m----> \u001b[39m\u001b[32m1\u001b[39m x1,y1,z1 = \u001b[43mgenerate_surface_xy\u001b[49m\u001b[43m(\u001b[49m\u001b[32;43m10\u001b[39;49m\u001b[43m,\u001b[49m\u001b[43m \u001b[49m\u001b[32;43m10\u001b[39;49m\u001b[43m,\u001b[49m\u001b[43m \u001b[49m\u001b[32;43m10000\u001b[39;49m\u001b[43m)\u001b[49m\n\u001b[32m      2\u001b[39m \u001b[38;5;66;03m# Create the 3D plot\u001b[39;00m\n\u001b[32m      3\u001b[39m fig = plt.figure(figsize=(\u001b[32m8\u001b[39m, \u001b[32m6\u001b[39m))\n",
      "\u001b[36mCell\u001b[39m\u001b[36m \u001b[39m\u001b[32mIn[24]\u001b[39m\u001b[32m, line 2\u001b[39m, in \u001b[36mgenerate_surface_xy\u001b[39m\u001b[34m(length, width, num_points)\u001b[39m\n\u001b[32m      1\u001b[39m \u001b[38;5;28;01mdef\u001b[39;00m\u001b[38;5;250m \u001b[39m\u001b[34mgenerate_surface_xy\u001b[39m(length, width, num_points):\n\u001b[32m----> \u001b[39m\u001b[32m2\u001b[39m     x_range = (-\u001b[43msize1\u001b[49m, size1)\n\u001b[32m      3\u001b[39m     y_range = (-size2, size2)\n\u001b[32m      4\u001b[39m     z_range = (\u001b[32m0\u001b[39m,\u001b[32m0\u001b[39m)\n",
      "\u001b[31mNameError\u001b[39m: name 'size1' is not defined"
     ]
    }
   ],
   "source": [
    "x1,y1,z1 = generate_surface_xy(10, 10, 10000)\n",
    "# Create the 3D plot\n",
    "fig = plt.figure(figsize=(8, 6))\n",
    "ax = fig.add_subplot(111, projection='3d')\n",
    "ax.scatter(x1, y1, z1, s=1, c='blue', alpha=0.5)\n",
    "\n",
    "# Labels\n",
    "ax.set_xlabel('X')\n",
    "ax.set_ylabel('Y')\n",
    "ax.set_zlabel('Z')\n",
    "ax.set_title('Flat Cloud Point Surface in 3D (X-Axis)')\n",
    "\n",
    "plt.show()"
   ]
  }
 ],
 "metadata": {
  "kernelspec": {
   "display_name": "POI",
   "language": "python",
   "name": "python3"
  },
  "language_info": {
   "codemirror_mode": {
    "name": "ipython",
    "version": 3
   },
   "file_extension": ".py",
   "mimetype": "text/x-python",
   "name": "python",
   "nbconvert_exporter": "python",
   "pygments_lexer": "ipython3",
   "version": "3.13.2"
  }
 },
 "nbformat": 4,
 "nbformat_minor": 2
}
